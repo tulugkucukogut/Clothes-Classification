{
 "cells": [
  {
   "cell_type": "code",
   "execution_count": 16,
   "id": "3f1ad6bc",
   "metadata": {},
   "outputs": [],
   "source": [
    "#Cumhuriye Tulug Kucukogut\n",
    "#S025791\n",
    "import numpy as np\n",
    "import matplotlib.pyplot as plt\n",
    "#import mnist_reader\n",
    "#X_train, y_train = mnist_reader.load_mnist('data/fashion', kind='train')\n",
    "#X_test, y_test = mnist_reader.load_mnist('data/fashion', kind='t10k')"
   ]
  },
  {
   "cell_type": "code",
   "execution_count": 20,
   "id": "1973adf6",
   "metadata": {},
   "outputs": [],
   "source": [
    "def load_mnist(path, kind='train'):\n",
    "    import os\n",
    "    import gzip\n",
    "    import numpy as np\n",
    "\n",
    "    \"\"\"Load MNIST data from `path`\"\"\"\n",
    "    labels_path = os.path.join(path,\n",
    "                               '%s-labels-idx1-ubyte'\n",
    "                               % kind)\n",
    "    images_path = os.path.join(path,\n",
    "                               '%s-images-idx3-ubyte'\n",
    "                               % kind)\n",
    "\n",
    "    with open(labels_path, 'rb') as lbpath:\n",
    "        labels = np.frombuffer(lbpath.read(), dtype=np.uint8,\n",
    "                               offset=8)\n",
    "\n",
    "    with open(images_path, 'rb') as imgpath:\n",
    "        images = np.frombuffer(imgpath.read(), dtype=np.uint8,\n",
    "                               offset=16).reshape(len(labels), 784)\n",
    "\n",
    "    return images, labels"
   ]
  },
  {
   "cell_type": "code",
   "execution_count": 21,
   "id": "04a4aee5",
   "metadata": {},
   "outputs": [],
   "source": [
    "#to upload data\n",
    "X_train, y_train = load_mnist('/home/tulug/Downloads/archive', kind='train')\n",
    "X_test, y_test = load_mnist('/home/tulug/Downloads/archive', kind='t10k')"
   ]
  },
  {
   "cell_type": "code",
   "execution_count": 22,
   "id": "225a0acd",
   "metadata": {},
   "outputs": [
    {
     "name": "stdout",
     "output_type": "stream",
     "text": [
      "6000\n"
     ]
    }
   ],
   "source": [
    "#showing which images are 5 and how many of them\n",
    "x_train_zeros = X_train[y_train == 5]\n",
    "print(len(x_train_zeros))"
   ]
  },
  {
   "cell_type": "code",
   "execution_count": 23,
   "id": "7914473e",
   "metadata": {},
   "outputs": [
    {
     "data": {
      "text/plain": [
       "(60000, 784)"
      ]
     },
     "execution_count": 23,
     "metadata": {},
     "output_type": "execute_result"
    }
   ],
   "source": [
    "X_train.shape #60000 count of pics 784 is 28x28 height and width"
   ]
  },
  {
   "cell_type": "code",
   "execution_count": 24,
   "id": "6afa5769",
   "metadata": {},
   "outputs": [
    {
     "data": {
      "text/plain": [
       "(60000, 28, 28)"
      ]
     },
     "execution_count": 24,
     "metadata": {},
     "output_type": "execute_result"
    }
   ],
   "source": [
    "#reshaping data for  showing clothes\n",
    "X_train_img = np.reshape(X_train, (-1, 28, 28))\n",
    "X_train_img.shape"
   ]
  },
  {
   "cell_type": "code",
   "execution_count": 25,
   "id": "7743d038",
   "metadata": {},
   "outputs": [
    {
     "data": {
      "text/plain": [
       "(60000,)"
      ]
     },
     "execution_count": 25,
     "metadata": {},
     "output_type": "execute_result"
    }
   ],
   "source": [
    "y_train.shape"
   ]
  },
  {
   "cell_type": "code",
   "execution_count": 26,
   "id": "41fb92c9",
   "metadata": {},
   "outputs": [
    {
     "data": {
      "text/plain": [
       "(10000, 784)"
      ]
     },
     "execution_count": 26,
     "metadata": {},
     "output_type": "execute_result"
    }
   ],
   "source": [
    "X_test.shape"
   ]
  },
  {
   "cell_type": "code",
   "execution_count": 55,
   "id": "689ba1ab",
   "metadata": {},
   "outputs": [
    {
     "data": {
      "text/plain": [
       "(10000, 28, 28)"
      ]
     },
     "execution_count": 55,
     "metadata": {},
     "output_type": "execute_result"
    }
   ],
   "source": [
    "X_test_img = np.reshape(X_test, (-1, 28, 28))\n",
    "X_test_img.shape"
   ]
  },
  {
   "cell_type": "code",
   "execution_count": 56,
   "id": "90b16b71",
   "metadata": {},
   "outputs": [
    {
     "data": {
      "text/plain": [
       "(10000,)"
      ]
     },
     "execution_count": 56,
     "metadata": {},
     "output_type": "execute_result"
    }
   ],
   "source": [
    "y_test.shape"
   ]
  },
  {
   "cell_type": "code",
   "execution_count": 27,
   "id": "65256df2",
   "metadata": {},
   "outputs": [
    {
     "data": {
      "image/png": "[encoded data removed]",
      "text/plain": [
       "<Figure size 432x288 with 1 Axes>"
      ]
     },
     "metadata": {
      "needs_background": "light"
     },
     "output_type": "display_data"
    },
    {
     "name": "stdout",
     "output_type": "stream",
     "text": [
      "labels\n",
      "9\n"
     ]
    },
    {
     "data": {
      "image/png": "[encoded data removed]",
      "text/plain": [
       "<Figure size 432x288 with 1 Axes>"
      ]
     },
     "metadata": {
      "needs_background": "light"
     },
     "output_type": "display_data"
    },
    {
     "name": "stdout",
     "output_type": "stream",
     "text": [
      "labels\n",
      "0\n"
     ]
    },
    {
     "data": {
      "image/png": "[encoded data removed]",
      "text/plain": [
       "<Figure size 432x288 with 1 Axes>"
      ]
     },
     "metadata": {
      "needs_background": "light"
     },
     "output_type": "display_data"
    },
    {
     "name": "stdout",
     "output_type": "stream",
     "text": [
      "labels\n",
      "0\n"
     ]
    },
    {
     "data": {
      "image/png": "[encoded data removed]",
      "text/plain": [
       "<Figure size 432x288 with 1 Axes>"
      ]
     },
     "metadata": {
      "needs_background": "light"
     },
     "output_type": "display_data"
    },
    {
     "name": "stdout",
     "output_type": "stream",
     "text": [
      "labels\n",
      "3\n"
     ]
    },
    {
     "data": {
      "image/png": "[encoded data removed]",
      "text/plain": [
       "<Figure size 432x288 with 1 Axes>"
      ]
     },
     "metadata": {
      "needs_background": "light"
     },
     "output_type": "display_data"
    },
    {
     "name": "stdout",
     "output_type": "stream",
     "text": [
      "labels\n",
      "0\n"
     ]
    },
    {
     "data": {
      "image/png": "[encoded data removed]",
      "text/plain": [
       "<Figure size 432x288 with 1 Axes>"
      ]
     },
     "metadata": {
      "needs_background": "light"
     },
     "output_type": "display_data"
    },
    {
     "name": "stdout",
     "output_type": "stream",
     "text": [
      "labels\n",
      "2\n"
     ]
    },
    {
     "data": {
      "image/png": "[encoded data removed]",
      "text/plain": [
       "<Figure size 432x288 with 1 Axes>"
      ]
     },
     "metadata": {
      "needs_background": "light"
     },
     "output_type": "display_data"
    },
    {
     "name": "stdout",
     "output_type": "stream",
     "text": [
      "labels\n",
      "7\n"
     ]
    },
    {
     "data": {
      "image/png": "[encoded data removed]",
      "text/plain": [
       "<Figure size 432x288 with 1 Axes>"
      ]
     },
     "metadata": {
      "needs_background": "light"
     },
     "output_type": "display_data"
    },
    {
     "name": "stdout",
     "output_type": "stream",
     "text": [
      "labels\n",
      "2\n"
     ]
    },
    {
     "data": {
      "image/png": "[encoded data removed]",
      "text/plain": [
       "<Figure size 432x288 with 1 Axes>"
      ]
     },
     "metadata": {
      "needs_background": "light"
     },
     "output_type": "display_data"
    },
    {
     "name": "stdout",
     "output_type": "stream",
     "text": [
      "labels\n",
      "5\n"
     ]
    },
    {
     "data": {
      "image/png": "[encoded data removed]",
      "text/plain": [
       "<Figure size 432x288 with 1 Axes>"
      ]
     },
     "metadata": {
      "needs_background": "light"
     },
     "output_type": "display_data"
    },
    {
     "name": "stdout",
     "output_type": "stream",
     "text": [
      "labels\n",
      "5\n"
     ]
    },
    {
     "data": {
      "image/png": "[encoded data removed]",
      "text/plain": [
       "<Figure size 432x288 with 1 Axes>"
      ]
     },
     "metadata": {
      "needs_background": "light"
     },
     "output_type": "display_data"
    },
    {
     "name": "stdout",
     "output_type": "stream",
     "text": [
      "labels\n",
      "0\n"
     ]
    },
    {
     "data": {
      "image/png": "[encoded data removed]",
      "text/plain": [
       "<Figure size 432x288 with 1 Axes>"
      ]
     },
     "metadata": {
      "needs_background": "light"
     },
     "output_type": "display_data"
    },
    {
     "name": "stdout",
     "output_type": "stream",
     "text": [
      "labels\n",
      "9\n"
     ]
    },
    {
     "data": {
      "image/png": "[encoded data removed]",
      "text/plain": [
       "<Figure size 432x288 with 1 Axes>"
      ]
     },
     "metadata": {
      "needs_background": "light"
     },
     "output_type": "display_data"
    },
    {
     "name": "stdout",
     "output_type": "stream",
     "text": [
      "labels\n",
      "5\n"
     ]
    },
    {
     "data": {
      "image/png": "[encoded data removed]",
      "text/plain": [
       "<Figure size 432x288 with 1 Axes>"
      ]
     },
     "metadata": {
      "needs_background": "light"
     },
     "output_type": "display_data"
    },
    {
     "name": "stdout",
     "output_type": "stream",
     "text": [
      "labels\n",
      "5\n"
     ]
    },
    {
     "data": {
      "image/png": "[encoded data removed]",
      "text/plain": [
       "<Figure size 432x288 with 1 Axes>"
      ]
     },
     "metadata": {
      "needs_background": "light"
     },
     "output_type": "display_data"
    },
    {
     "name": "stdout",
     "output_type": "stream",
     "text": [
      "labels\n",
      "7\n"
     ]
    },
    {
     "data": {
      "image/png": "[encoded data removed]",
      "text/plain": [
       "<Figure size 432x288 with 1 Axes>"
      ]
     },
     "metadata": {
      "needs_background": "light"
     },
     "output_type": "display_data"
    },
    {
     "name": "stdout",
     "output_type": "stream",
     "text": [
      "labels\n",
      "9\n"
     ]
    },
    {
     "data": {
      "image/png": "[encoded data removed]",
      "text/plain": [
       "<Figure size 432x288 with 1 Axes>"
      ]
     },
     "metadata": {
      "needs_background": "light"
     },
     "output_type": "display_data"
    },
    {
     "name": "stdout",
     "output_type": "stream",
     "text": [
      "labels\n",
      "1\n"
     ]
    },
    {
     "data": {
      "image/png": "[encoded data removed]",
      "text/plain": [
       "<Figure size 432x288 with 1 Axes>"
      ]
     },
     "metadata": {
      "needs_background": "light"
     },
     "output_type": "display_data"
    },
    {
     "name": "stdout",
     "output_type": "stream",
     "text": [
      "labels\n",
      "0\n"
     ]
    },
    {
     "data": {
      "image/png": "[encoded data removed]",
      "text/plain": [
       "<Figure size 432x288 with 1 Axes>"
      ]
     },
     "metadata": {
      "needs_background": "light"
     },
     "output_type": "display_data"
    },
    {
     "name": "stdout",
     "output_type": "stream",
     "text": [
      "labels\n",
      "6\n"
     ]
    },
    {
     "data": {
      "image/png": "[encoded data removed]",
      "text/plain": [
       "<Figure size 432x288 with 1 Axes>"
      ]
     },
     "metadata": {
      "needs_background": "light"
     },
     "output_type": "display_data"
    },
    {
     "name": "stdout",
     "output_type": "stream",
     "text": [
      "labels\n",
      "4\n"
     ]
    },
    {
     "data": {
      "image/png": "[encoded data removed]",
      "text/plain": [
       "<Figure size 432x288 with 1 Axes>"
      ]
     },
     "metadata": {
      "needs_background": "light"
     },
     "output_type": "display_data"
    },
    {
     "name": "stdout",
     "output_type": "stream",
     "text": [
      "labels\n",
      "3\n"
     ]
    },
    {
     "data": {
      "image/png": "[encoded data removed]",
      "text/plain": [
       "<Figure size 432x288 with 1 Axes>"
      ]
     },
     "metadata": {
      "needs_background": "light"
     },
     "output_type": "display_data"
    },
    {
     "name": "stdout",
     "output_type": "stream",
     "text": [
      "labels\n",
      "1\n"
     ]
    },
    {
     "data": {
      "image/png": "[encoded data removed]",
      "text/plain": [
       "<Figure size 432x288 with 1 Axes>"
      ]
     },
     "metadata": {
      "needs_background": "light"
     },
     "output_type": "display_data"
    },
    {
     "name": "stdout",
     "output_type": "stream",
     "text": [
      "labels\n",
      "4\n"
     ]
    },
    {
     "data": {
      "image/png": "[encoded data removed]",
      "text/plain": [
       "<Figure size 432x288 with 1 Axes>"
      ]
     },
     "metadata": {
      "needs_background": "light"
     },
     "output_type": "display_data"
    },
    {
     "name": "stdout",
     "output_type": "stream",
     "text": [
      "labels\n",
      "8\n"
     ]
    },
    {
     "data": {
      "image/png": "[encoded data removed]",
      "text/plain": [
       "<Figure size 432x288 with 1 Axes>"
      ]
     },
     "metadata": {
      "needs_background": "light"
     },
     "output_type": "display_data"
    },
    {
     "name": "stdout",
     "output_type": "stream",
     "text": [
      "labels\n",
      "4\n"
     ]
    },
    {
     "data": {
      "image/png": "[encoded data removed]",
      "text/plain": [
       "<Figure size 432x288 with 1 Axes>"
      ]
     },
     "metadata": {
      "needs_background": "light"
     },
     "output_type": "display_data"
    },
    {
     "name": "stdout",
     "output_type": "stream",
     "text": [
      "labels\n",
      "3\n"
     ]
    },
    {
     "data": {
      "image/png": "[encoded data removed]",
      "text/plain": [
       "<Figure size 432x288 with 1 Axes>"
      ]
     },
     "metadata": {
      "needs_background": "light"
     },
     "output_type": "display_data"
    },
    {
     "name": "stdout",
     "output_type": "stream",
     "text": [
      "labels\n",
      "0\n"
     ]
    },
    {
     "data": {
      "image/png": "[encoded data removed]",
      "text/plain": [
       "<Figure size 432x288 with 1 Axes>"
      ]
     },
     "metadata": {
      "needs_background": "light"
     },
     "output_type": "display_data"
    },
    {
     "name": "stdout",
     "output_type": "stream",
     "text": [
      "labels\n",
      "2\n"
     ]
    },
    {
     "data": {
      "image/png": "[encoded data removed]",
      "text/plain": [
       "<Figure size 432x288 with 1 Axes>"
      ]
     },
     "metadata": {
      "needs_background": "light"
     },
     "output_type": "display_data"
    },
    {
     "name": "stdout",
     "output_type": "stream",
     "text": [
      "labels\n",
      "4\n"
     ]
    },
    {
     "data": {
      "image/png": "[encoded data removed]",
      "text/plain": [
       "<Figure size 432x288 with 1 Axes>"
      ]
     },
     "metadata": {
      "needs_background": "light"
     },
     "output_type": "display_data"
    },
    {
     "name": "stdout",
     "output_type": "stream",
     "text": [
      "labels\n",
      "4\n"
     ]
    }
   ],
   "source": [
    "#showing first 30 clothes\n",
    "for i in range(0,30):\n",
    "    pixels = np.array(X_train_img[i], dtype='float')\n",
    "    plt.imshow(pixels, cmap='gray')\n",
    "    plt.show()\n",
    "    print(\"labels\")\n",
    "    print(y_train[i])"
   ]
  },
  {
   "cell_type": "code",
   "execution_count": 37,
   "id": "11190003",
   "metadata": {},
   "outputs": [
    {
     "data": {
      "text/plain": [
       "numpy.ndarray"
      ]
     },
     "execution_count": 37,
     "metadata": {},
     "output_type": "execute_result"
    }
   ],
   "source": [
    "type(y_train)"
   ]
  },
  {
   "cell_type": "code",
   "execution_count": 205,
   "id": "3dca2a85",
   "metadata": {},
   "outputs": [
    {
     "name": "stdout",
     "output_type": "stream",
     "text": [
      "(array([   19,    22,    24, ..., 59984, 59986, 59990]),)\n"
     ]
    }
   ],
   "source": [
    "#finding clothes which label is coat\n",
    "b = np.where(y_train==4)\n",
    "print(b)"
   ]
  },
  {
   "cell_type": "code",
   "execution_count": 28,
   "id": "843cb8b9",
   "metadata": {},
   "outputs": [
    {
     "data": {
      "image/png": "[encoded data removed]",
      "text/plain": [
       "<Figure size 432x288 with 1 Axes>"
      ]
     },
     "metadata": {
      "needs_background": "light"
     },
     "output_type": "display_data"
    },
    {
     "data": {
      "image/png": "[encoded data removed]",
      "text/plain": [
       "<Figure size 432x288 with 1 Axes>"
      ]
     },
     "metadata": {
      "needs_background": "light"
     },
     "output_type": "display_data"
    },
    {
     "data": {
      "image/png": "[encoded data removed]",
      "text/plain": [
       "<Figure size 432x288 with 1 Axes>"
      ]
     },
     "metadata": {
      "needs_background": "light"
     },
     "output_type": "display_data"
    }
   ],
   "source": [
    "#and showing them\n",
    "for i in [19,22,24]:    \n",
    "    pixels = np.array(X_train_img[i], dtype='float')\n",
    "    plt.imshow(pixels, cmap='gray')\n",
    "# show the figure\n",
    "    plt.show()"
   ]
  },
  {
   "cell_type": "code",
   "execution_count": 29,
   "id": "09066845",
   "metadata": {},
   "outputs": [
    {
     "name": "stdout",
     "output_type": "stream",
     "text": [
      "(array([    0,    11,    15, ..., 59932, 59970, 59978]),)\n"
     ]
    }
   ],
   "source": [
    "b = np.where(y_train==9)\n",
    "print(b)"
   ]
  },
  {
   "cell_type": "code",
   "execution_count": 30,
   "id": "dc46350b",
   "metadata": {},
   "outputs": [
    {
     "data": {
      "image/png": "[encoded data removed]",
      "text/plain": [
       "<Figure size 432x288 with 1 Axes>"
      ]
     },
     "metadata": {
      "needs_background": "light"
     },
     "output_type": "display_data"
    },
    {
     "data": {
      "image/png": "[encoded data removed]",
      "text/plain": [
       "<Figure size 432x288 with 1 Axes>"
      ]
     },
     "metadata": {
      "needs_background": "light"
     },
     "output_type": "display_data"
    },
    {
     "data": {
      "image/png": "[encoded data removed]",
      "text/plain": [
       "<Figure size 432x288 with 1 Axes>"
      ]
     },
     "metadata": {
      "needs_background": "light"
     },
     "output_type": "display_data"
    }
   ],
   "source": [
    "#finding clothes which label is ankle boat\n",
    "for i in [0,11,15]:    \n",
    "    pixels = np.array(X_train_img[i], dtype='float')\n",
    "    plt.imshow(pixels, cmap='gray')\n",
    "# show the figure\n",
    "    plt.show()\n"
   ]
  },
  {
   "cell_type": "code",
   "execution_count": 31,
   "id": "98e98842",
   "metadata": {},
   "outputs": [
    {
     "data": {
      "text/plain": [
       "(784,)"
      ]
     },
     "execution_count": 31,
     "metadata": {},
     "output_type": "execute_result"
    }
   ],
   "source": [
    "X_train[0].shape"
   ]
  },
  {
   "cell_type": "code",
   "execution_count": 45,
   "id": "02be34cf",
   "metadata": {},
   "outputs": [],
   "source": [
    "#creating label dictionary\n",
    "labelDict = {0:\"tshirt\",\n",
    "             1 : \"pants\",\n",
    "             2: \"sweater\",\n",
    "             3: \"dress\",\n",
    "             4: \"coat\",\n",
    "             5 : \"sandals\",\n",
    "             6: \"shirt\",\n",
    "             7:\"sneaker\",\n",
    "             8: \"bag\",\n",
    "             9 : \"ankle boat\"\n",
    "             \n",
    "    \n",
    "}"
   ]
  },
  {
   "cell_type": "code",
   "execution_count": 32,
   "id": "93ecd2d6",
   "metadata": {},
   "outputs": [
    {
     "data": {
      "text/plain": [
       "(784,)"
      ]
     },
     "execution_count": 32,
     "metadata": {},
     "output_type": "execute_result"
    }
   ],
   "source": [
    "X_train[1].shape"
   ]
  },
  {
   "cell_type": "code",
   "execution_count": 33,
   "id": "789d70d6",
   "metadata": {},
   "outputs": [
    {
     "data": {
      "text/plain": [
       "(60000, 784)"
      ]
     },
     "execution_count": 33,
     "metadata": {},
     "output_type": "execute_result"
    }
   ],
   "source": [
    "X_train.shape"
   ]
  },
  {
   "cell_type": "code",
   "execution_count": 34,
   "id": "aafaf45b",
   "metadata": {},
   "outputs": [
    {
     "data": {
      "text/plain": [
       "(10000, 784)"
      ]
     },
     "execution_count": 34,
     "metadata": {},
     "output_type": "execute_result"
    }
   ],
   "source": [
    "X_test.shape"
   ]
  },
  {
   "cell_type": "code",
   "execution_count": 35,
   "id": "a924ae6a",
   "metadata": {},
   "outputs": [
    {
     "data": {
      "image/png": "[encoded data removed]",
      "text/plain": [
       "<Figure size 432x288 with 1 Axes>"
      ]
     },
     "metadata": {
      "needs_background": "light"
     },
     "output_type": "display_data"
    }
   ],
   "source": [
    "first_image = X_train[0]\n",
    "pixels = first_image.reshape((28, 28))\n",
    "plt.imshow(pixels, cmap='gray')\n",
    "plt.show()"
   ]
  },
  {
   "cell_type": "code",
   "execution_count": 36,
   "id": "be0b4dc0",
   "metadata": {},
   "outputs": [],
   "source": [
    "#scaling of data\n",
    "from sklearn.preprocessing import StandardScaler\n",
    "myscaler=StandardScaler()\n",
    "x_train_std=myscaler.fit_transform(X_train)"
   ]
  },
  {
   "cell_type": "code",
   "execution_count": 37,
   "id": "cbc2ec5c",
   "metadata": {},
   "outputs": [],
   "source": [
    "x_test_std=myscaler.fit_transform(X_test)"
   ]
  },
  {
   "cell_type": "code",
   "execution_count": 38,
   "id": "f21f464f",
   "metadata": {},
   "outputs": [],
   "source": [
    "#implementation of knn\n",
    "from sklearn.neighbors import KNeighborsClassifier"
   ]
  },
  {
   "cell_type": "code",
   "execution_count": 39,
   "id": "125ad42c",
   "metadata": {},
   "outputs": [],
   "source": [
    "knn=KNeighborsClassifier(n_neighbors=5, metric=\"minkowski\", p=2)"
   ]
  },
  {
   "cell_type": "code",
   "execution_count": 40,
   "id": "55f590c6",
   "metadata": {},
   "outputs": [
    {
     "data": {
      "text/plain": [
       "KNeighborsClassifier()"
      ]
     },
     "execution_count": 40,
     "metadata": {},
     "output_type": "execute_result"
    }
   ],
   "source": [
    "knn.fit(x_train_std,y_train)"
   ]
  },
  {
   "cell_type": "code",
   "execution_count": 41,
   "id": "1cee0a3d",
   "metadata": {},
   "outputs": [
    {
     "data": {
      "text/plain": [
       "array([9, 2, 1, ..., 8, 1, 5], dtype=uint8)"
      ]
     },
     "execution_count": 41,
     "metadata": {},
     "output_type": "execute_result"
    }
   ],
   "source": [
    "knn.predict(x_test_std)"
   ]
  },
  {
   "cell_type": "code",
   "execution_count": 42,
   "id": "15f809ec",
   "metadata": {},
   "outputs": [
    {
     "data": {
      "text/plain": [
       "0.8536"
      ]
     },
     "execution_count": 42,
     "metadata": {},
     "output_type": "execute_result"
    }
   ],
   "source": [
    "knn.score(x_test_std,y_test)"
   ]
  },
  {
   "cell_type": "code",
   "execution_count": 43,
   "id": "b89935b8",
   "metadata": {},
   "outputs": [
    {
     "data": {
      "text/plain": [
       "0.8525"
      ]
     },
     "execution_count": 43,
     "metadata": {},
     "output_type": "execute_result"
    }
   ],
   "source": [
    "#for comparing algorithm results according to neighbour count\n",
    "knn=KNeighborsClassifier(n_neighbors=7, metric=\"minkowski\", p=2)\n",
    "knn.fit(x_train_std,y_train)\n",
    "knn.predict(x_test_std)\n",
    "knn.score(x_test_std,y_test)"
   ]
  },
  {
   "cell_type": "code",
   "execution_count": 44,
   "id": "25075b5b",
   "metadata": {},
   "outputs": [
    {
     "data": {
      "text/plain": [
       "0.8499"
      ]
     },
     "execution_count": 44,
     "metadata": {},
     "output_type": "execute_result"
    }
   ],
   "source": [
    "knn=KNeighborsClassifier(n_neighbors=3, metric=\"minkowski\", p=2)\n",
    "knn.fit(x_train_std,y_train)\n",
    "knn.predict(x_test_std)\n",
    "knn.score(x_test_std,y_test)"
   ]
  },
  {
   "cell_type": "code",
   "execution_count": 193,
   "id": "c5b81656",
   "metadata": {},
   "outputs": [
    {
     "data": {
      "text/plain": [
       "0.8536"
      ]
     },
     "execution_count": 193,
     "metadata": {},
     "output_type": "execute_result"
    }
   ],
   "source": [
    "knn=KNeighborsClassifier(n_neighbors=5, metric=\"minkowski\", p=2)\n",
    "knn.fit(x_train_std,y_train)\n",
    "knn.predict(x_test_std)\n",
    "knn.score(x_test_std,y_test)"
   ]
  },
  {
   "cell_type": "code",
   "execution_count": 87,
   "id": "9de843dd",
   "metadata": {},
   "outputs": [],
   "source": [
    "from sklearn.metrics import accuracy_score, recall_score, precision_score, f1_score"
   ]
  },
  {
   "cell_type": "code",
   "execution_count": null,
   "id": "f994434c",
   "metadata": {},
   "outputs": [],
   "source": []
  },
  {
   "cell_type": "code",
   "execution_count": 194,
   "id": "1f53eb5c",
   "metadata": {},
   "outputs": [
    {
     "name": "stdout",
     "output_type": "stream",
     "text": [
      "Accuracy 0.8536\n",
      "Recall 0.8536\n",
      "Precision 0.8536\n",
      "F1 0.8536\n"
     ]
    }
   ],
   "source": [
    "#showing the results of accuracy,recall,precision and F1\n",
    "print(\"Accuracy\", accuracy_score(y_test, knn.predict(x_test_std)))\n",
    "print(\"Recall\", recall_score(y_test, knn.predict(x_test_std),average=\"micro\"))\n",
    "print(\"Precision\", precision_score(y_test, knn.predict(x_test_std), average=\"micro\"))\n",
    "print(\"F1\", f1_score(y_test, knn.predict(x_test_std),average=\"micro\"))"
   ]
  },
  {
   "cell_type": "code",
   "execution_count": 94,
   "id": "38672110",
   "metadata": {},
   "outputs": [
    {
     "name": "stdout",
     "output_type": "stream",
     "text": [
      "Misclassification 1464\n"
     ]
    }
   ],
   "source": [
    "#missclassified result\n",
    "print(\"Misclassification\", (y_test!=knn.predict(x_test_std)).sum())"
   ]
  },
  {
   "cell_type": "code",
   "execution_count": null,
   "id": "1ce491ac",
   "metadata": {},
   "outputs": [],
   "source": []
  },
  {
   "cell_type": "code",
   "execution_count": 95,
   "id": "8d00777a",
   "metadata": {},
   "outputs": [],
   "source": [
    "from sklearn.metrics import confusion_matrix, ConfusionMatrixDisplay"
   ]
  },
  {
   "cell_type": "code",
   "execution_count": 96,
   "id": "f15a13cd",
   "metadata": {},
   "outputs": [],
   "source": [
    "#creating confusion matrix\n",
    "cm=confusion_matrix(y_test, knn.predict(x_test_std))"
   ]
  },
  {
   "cell_type": "code",
   "execution_count": 97,
   "id": "218ff460",
   "metadata": {},
   "outputs": [
    {
     "data": {
      "text/plain": [
       "<sklearn.metrics._plot.confusion_matrix.ConfusionMatrixDisplay at 0x7fbbc2bfd040>"
      ]
     },
     "execution_count": 97,
     "metadata": {},
     "output_type": "execute_result"
    },
    {
     "data": {
      "image/png": "[encoded data removed]",
      "text/plain": [
       "<Figure size 432x288 with 2 Axes>"
      ]
     },
     "metadata": {
      "needs_background": "light"
     },
     "output_type": "display_data"
    }
   ],
   "source": [
    "#showing them\n",
    "disp=ConfusionMatrixDisplay(confusion_matrix=cm,display_labels=labelDict.values())\n",
    "disp.plot()"
   ]
  },
  {
   "cell_type": "code",
   "execution_count": 98,
   "id": "28cbf261",
   "metadata": {},
   "outputs": [],
   "source": [
    "predicted = knn.predict(x_test_std)"
   ]
  },
  {
   "cell_type": "code",
   "execution_count": 99,
   "id": "b79fb849",
   "metadata": {},
   "outputs": [
    {
     "data": {
      "text/plain": [
       "array([9, 2, 1, ..., 8, 1, 5], dtype=uint8)"
      ]
     },
     "execution_count": 99,
     "metadata": {},
     "output_type": "execute_result"
    }
   ],
   "source": [
    "predicted"
   ]
  },
  {
   "cell_type": "code",
   "execution_count": 100,
   "id": "a5c8a099",
   "metadata": {},
   "outputs": [
    {
     "data": {
      "text/plain": [
       "array([9, 2, 1, ..., 8, 1, 5], dtype=uint8)"
      ]
     },
     "execution_count": 100,
     "metadata": {},
     "output_type": "execute_result"
    }
   ],
   "source": [
    "y_test"
   ]
  },
  {
   "cell_type": "code",
   "execution_count": 102,
   "id": "70fb4235",
   "metadata": {},
   "outputs": [
    {
     "name": "stdout",
     "output_type": "stream",
     "text": [
      "Misclassification [False False False ... False False False]\n"
     ]
    }
   ],
   "source": [
    "print(\"Misclassification\", (y_test!=knn.predict(x_test_std)))"
   ]
  },
  {
   "cell_type": "code",
   "execution_count": 109,
   "id": "5e17fbfe",
   "metadata": {},
   "outputs": [],
   "source": [
    "#finding missclassified items\n",
    "misclassification = (y_test!=knn.predict(x_test_std))"
   ]
  },
  {
   "cell_type": "code",
   "execution_count": 209,
   "id": "38b15e6e",
   "metadata": {},
   "outputs": [
    {
     "name": "stdout",
     "output_type": "stream",
     "text": [
      "(array([   7,   10,   17, ..., 9989, 9991, 9999]),)\n"
     ]
    }
   ],
   "source": [
    "#finding missclassified items locations\n",
    "misLocation = np.where(misclassification==True)\n",
    "print(misLocation)"
   ]
  },
  {
   "cell_type": "code",
   "execution_count": 116,
   "id": "d80fe975",
   "metadata": {},
   "outputs": [
    {
     "data": {
      "text/plain": [
       "4"
      ]
     },
     "execution_count": 116,
     "metadata": {},
     "output_type": "execute_result"
    }
   ],
   "source": [
    "y_test[17]\n"
   ]
  },
  {
   "cell_type": "code",
   "execution_count": 118,
   "id": "422f6596",
   "metadata": {},
   "outputs": [
    {
     "data": {
      "text/plain": [
       "6"
      ]
     },
     "execution_count": 118,
     "metadata": {},
     "output_type": "execute_result"
    }
   ],
   "source": [
    "predicted[17]"
   ]
  },
  {
   "cell_type": "code",
   "execution_count": 119,
   "id": "648787cc",
   "metadata": {},
   "outputs": [
    {
     "data": {
      "text/plain": [
       "9"
      ]
     },
     "execution_count": 119,
     "metadata": {},
     "output_type": "execute_result"
    }
   ],
   "source": [
    "y_test[0]"
   ]
  },
  {
   "cell_type": "code",
   "execution_count": 120,
   "id": "3e445499",
   "metadata": {},
   "outputs": [
    {
     "data": {
      "text/plain": [
       "9"
      ]
     },
     "execution_count": 120,
     "metadata": {},
     "output_type": "execute_result"
    }
   ],
   "source": [
    "predicted[0]"
   ]
  },
  {
   "cell_type": "code",
   "execution_count": 124,
   "id": "6244f918",
   "metadata": {},
   "outputs": [
    {
     "data": {
      "image/png": "[encoded data removed]",
      "text/plain": [
       "<Figure size 432x288 with 1 Axes>"
      ]
     },
     "metadata": {
      "needs_background": "light"
     },
     "output_type": "display_data"
    },
    {
     "name": "stdout",
     "output_type": "stream",
     "text": [
      "ankle boat\n"
     ]
    }
   ],
   "source": [
    "#and showing them\n",
    "first_image = X_test[0]\n",
    "pixels = first_image.reshape((28, 28))\n",
    "plt.imshow(pixels, cmap='gray')\n",
    "plt.show()\n",
    "\n",
    "print(labelDict[predicted[0]])"
   ]
  },
  {
   "cell_type": "code",
   "execution_count": 125,
   "id": "ea376b95",
   "metadata": {},
   "outputs": [
    {
     "data": {
      "image/png": "[encoded data removed]",
      "text/plain": [
       "<Figure size 432x288 with 1 Axes>"
      ]
     },
     "metadata": {
      "needs_background": "light"
     },
     "output_type": "display_data"
    },
    {
     "name": "stdout",
     "output_type": "stream",
     "text": [
      "sweater\n"
     ]
    }
   ],
   "source": [
    "first_image = X_test[1]\n",
    "pixels = first_image.reshape((28, 28))\n",
    "plt.imshow(pixels, cmap='gray')\n",
    "plt.show()\n",
    "\n",
    "print(labelDict[predicted[1]])"
   ]
  },
  {
   "cell_type": "code",
   "execution_count": 126,
   "id": "10a8a62d",
   "metadata": {},
   "outputs": [
    {
     "data": {
      "image/png": "[encoded data removed]",
      "text/plain": [
       "<Figure size 432x288 with 1 Axes>"
      ]
     },
     "metadata": {
      "needs_background": "light"
     },
     "output_type": "display_data"
    },
    {
     "name": "stdout",
     "output_type": "stream",
     "text": [
      "pants\n"
     ]
    }
   ],
   "source": [
    "first_image = X_test[2]\n",
    "pixels = first_image.reshape((28, 28))\n",
    "plt.imshow(pixels, cmap='gray')\n",
    "plt.show()\n",
    "\n",
    "print(labelDict[predicted[2]])"
   ]
  },
  {
   "cell_type": "code",
   "execution_count": 127,
   "id": "c1f21b9b",
   "metadata": {},
   "outputs": [
    {
     "data": {
      "image/png": "[encoded data removed]",
      "text/plain": [
       "<Figure size 432x288 with 1 Axes>"
      ]
     },
     "metadata": {
      "needs_background": "light"
     },
     "output_type": "display_data"
    },
    {
     "name": "stdout",
     "output_type": "stream",
     "text": [
      "shirt\n"
     ]
    }
   ],
   "source": [
    "first_image = X_test[17]\n",
    "pixels = first_image.reshape((28, 28))\n",
    "plt.imshow(pixels, cmap='gray')\n",
    "plt.show()\n",
    "\n",
    "print(labelDict[predicted[17]])"
   ]
  },
  {
   "cell_type": "code",
   "execution_count": 203,
   "id": "6f61a39f",
   "metadata": {},
   "outputs": [
    {
     "data": {
      "image/png": "[encoded data removed]",
      "text/plain": [
       "<Figure size 432x288 with 1 Axes>"
      ]
     },
     "metadata": {
      "needs_background": "light"
     },
     "output_type": "display_data"
    },
    {
     "name": "stdout",
     "output_type": "stream",
     "text": [
      "coat\n"
     ]
    }
   ],
   "source": [
    "first_image = X_test[10]\n",
    "pixels = first_image.reshape((28, 28))\n",
    "plt.imshow(pixels, cmap='gray')\n",
    "plt.show()\n",
    "\n",
    "print(labelDict[predicted[10]])"
   ]
  },
  {
   "cell_type": "code",
   "execution_count": 201,
   "id": "a05b0747",
   "metadata": {},
   "outputs": [
    {
     "data": {
      "image/png": "[encoded data removed]",
      "text/plain": [
       "<Figure size 432x288 with 1 Axes>"
      ]
     },
     "metadata": {
      "needs_background": "light"
     },
     "output_type": "display_data"
    },
    {
     "name": "stdout",
     "output_type": "stream",
     "text": [
      "pants\n"
     ]
    }
   ],
   "source": [
    "first_image = X_test[2]\n",
    "pixels = first_image.reshape((28, 28))\n",
    "plt.imshow(pixels, cmap='gray')\n",
    "plt.show()\n",
    "\n",
    "print(labelDict[predicted[2]])"
   ]
  },
  {
   "cell_type": "code",
   "execution_count": 204,
   "id": "963ad80e",
   "metadata": {},
   "outputs": [
    {
     "data": {
      "image/png": "[encoded data removed]",
      "text/plain": [
       "<Figure size 432x288 with 1 Axes>"
      ]
     },
     "metadata": {
      "needs_background": "light"
     },
     "output_type": "display_data"
    },
    {
     "name": "stdout",
     "output_type": "stream",
     "text": [
      "sweater\n"
     ]
    }
   ],
   "source": [
    "first_image = X_test[9989]\n",
    "pixels = first_image.reshape((28, 28))\n",
    "plt.imshow(pixels, cmap='gray')\n",
    "plt.show()\n",
    "\n",
    "print(labelDict[predicted[9989]])"
   ]
  },
  {
   "cell_type": "code",
   "execution_count": null,
   "id": "0474c3fc",
   "metadata": {},
   "outputs": [],
   "source": [
    "first_image = X_test[25]\n",
    "pixels = first_image.reshape((28, 28))\n",
    "plt.imshow(pixels, cmap='gray')\n",
    "plt.show()\n",
    "\n",
    "print(labelDict[predicted[25]])"
   ]
  },
  {
   "cell_type": "code",
   "execution_count": 130,
   "id": "3302bdfd",
   "metadata": {},
   "outputs": [
    {
     "name": "stdout",
     "output_type": "stream",
     "text": [
      "              precision    recall  f1-score   support\n",
      "\n",
      "           0       0.76      0.86      0.81      1000\n",
      "           1       0.99      0.97      0.98      1000\n",
      "           2       0.74      0.80      0.77      1000\n",
      "           3       0.90      0.86      0.88      1000\n",
      "           4       0.77      0.77      0.77      1000\n",
      "           5       0.99      0.84      0.91      1000\n",
      "           6       0.65      0.59      0.62      1000\n",
      "           7       0.88      0.95      0.92      1000\n",
      "           8       0.99      0.93      0.96      1000\n",
      "           9       0.90      0.96      0.93      1000\n",
      "\n",
      "    accuracy                           0.85     10000\n",
      "   macro avg       0.86      0.85      0.85     10000\n",
      "weighted avg       0.86      0.85      0.85     10000\n",
      "\n"
     ]
    }
   ],
   "source": [
    "#reporting results\n",
    "from sklearn.metrics import classification_report\n",
    "print(classification_report(y_test,predicted))"
   ]
  },
  {
   "cell_type": "code",
   "execution_count": 210,
   "id": "550a180d",
   "metadata": {},
   "outputs": [],
   "source": [
    "X_train, y_train = load_mnist('/home/tulug/fashion-mnist/data/fashion', kind='train')\n",
    "X_test, y_test = load_mnist('/home/tulug/fashion-mnist/data/fashion', kind='t10k')"
   ]
  },
  {
   "cell_type": "code",
   "execution_count": 211,
   "id": "dba3a10a",
   "metadata": {},
   "outputs": [
    {
     "data": {
      "text/plain": [
       "RandomForestClassifier(criterion='entropy', max_depth=5, random_state=0)"
      ]
     },
     "execution_count": 211,
     "metadata": {},
     "output_type": "execute_result"
    }
   ],
   "source": [
    "#implementation of random forest classifier\n",
    "from sklearn.ensemble import RandomForestClassifier\n",
    "myforest = RandomForestClassifier(criterion='entropy', max_depth=5, random_state=0)\n",
    "myforest.fit(X_train,y_train)"
   ]
  },
  {
   "cell_type": "code",
   "execution_count": 212,
   "id": "c25b76da",
   "metadata": {},
   "outputs": [
    {
     "data": {
      "text/plain": [
       "0.759"
      ]
     },
     "execution_count": 212,
     "metadata": {},
     "output_type": "execute_result"
    }
   ],
   "source": [
    "myforest.score(X_test,y_test)"
   ]
  },
  {
   "cell_type": "code",
   "execution_count": 213,
   "id": "bdbba88a",
   "metadata": {},
   "outputs": [
    {
     "name": "stdout",
     "output_type": "stream",
     "text": [
      "Misclassification 2410\n"
     ]
    }
   ],
   "source": [
    "predicted = myforest.predict(X_test)\n",
    "predicted\n",
    "print(\"Misclassification\", (y_test!= predicted).sum())"
   ]
  },
  {
   "cell_type": "code",
   "execution_count": 137,
   "id": "c06418df",
   "metadata": {},
   "outputs": [
    {
     "name": "stdout",
     "output_type": "stream",
     "text": [
      "(array([   7,   10,   17, ..., 9989, 9991, 9999]),)\n"
     ]
    }
   ],
   "source": [
    "#finding misclassified\n",
    "misclassification = (y_test!=predicted)\n",
    "misLocation = np.where(misclassification==True)\n",
    "print(misLocation)"
   ]
  },
  {
   "cell_type": "code",
   "execution_count": 219,
   "id": "6ff1c5d6",
   "metadata": {},
   "outputs": [
    {
     "data": {
      "image/png": "[encoded data removed]",
      "text/plain": [
       "<Figure size 432x288 with 1 Axes>"
      ]
     },
     "metadata": {
      "needs_background": "light"
     },
     "output_type": "display_data"
    },
    {
     "name": "stdout",
     "output_type": "stream",
     "text": [
      "coat\n"
     ]
    },
    {
     "data": {
      "image/png": "[encoded data removed]",
      "text/plain": [
       "<Figure size 432x288 with 1 Axes>"
      ]
     },
     "metadata": {
      "needs_background": "light"
     },
     "output_type": "display_data"
    },
    {
     "name": "stdout",
     "output_type": "stream",
     "text": [
      "sweater\n"
     ]
    },
    {
     "data": {
      "image/png": "[encoded data removed]",
      "text/plain": [
       "<Figure size 432x288 with 1 Axes>"
      ]
     },
     "metadata": {
      "needs_background": "light"
     },
     "output_type": "display_data"
    },
    {
     "name": "stdout",
     "output_type": "stream",
     "text": [
      "sweater\n"
     ]
    }
   ],
   "source": [
    "for i in [7,10,17]:    \n",
    "    pixels = X_test[i].reshape((28, 28))\n",
    "    plt.imshow(pixels, cmap='gray')\n",
    "    plt.show()\n",
    "    print(labelDict[predicted[i]])\n",
    "# show the figure\n",
    "    "
   ]
  },
  {
   "cell_type": "code",
   "execution_count": 220,
   "id": "657abf65",
   "metadata": {},
   "outputs": [
    {
     "data": {
      "image/png": "[encoded data removed]",
      "text/plain": [
       "<Figure size 432x288 with 1 Axes>"
      ]
     },
     "metadata": {
      "needs_background": "light"
     },
     "output_type": "display_data"
    },
    {
     "name": "stdout",
     "output_type": "stream",
     "text": [
      "pants\n"
     ]
    },
    {
     "data": {
      "image/png": "[encoded data removed]",
      "text/plain": [
       "<Figure size 432x288 with 1 Axes>"
      ]
     },
     "metadata": {
      "needs_background": "light"
     },
     "output_type": "display_data"
    },
    {
     "name": "stdout",
     "output_type": "stream",
     "text": [
      "sneaker\n"
     ]
    },
    {
     "data": {
      "image/png": "[encoded data removed]",
      "text/plain": [
       "<Figure size 432x288 with 1 Axes>"
      ]
     },
     "metadata": {
      "needs_background": "light"
     },
     "output_type": "display_data"
    },
    {
     "name": "stdout",
     "output_type": "stream",
     "text": [
      "dress\n"
     ]
    }
   ],
   "source": [
    "#and showing them\n",
    "for i in [5,12,13]:    \n",
    "    pixels = X_test[i].reshape((28, 28))\n",
    "    plt.imshow(pixels, cmap='gray')\n",
    "    plt.show()\n",
    "    print(labelDict[predicted[i]])"
   ]
  },
  {
   "cell_type": "code",
   "execution_count": 139,
   "id": "2b6e1f82",
   "metadata": {},
   "outputs": [
    {
     "data": {
      "image/png": "[encoded data removed]",
      "text/plain": [
       "<Figure size 432x288 with 1 Axes>"
      ]
     },
     "metadata": {
      "needs_background": "light"
     },
     "output_type": "display_data"
    },
    {
     "name": "stdout",
     "output_type": "stream",
     "text": [
      "ankle boat\n"
     ]
    }
   ],
   "source": [
    "#showing them\n",
    "first_image = X_test[0]\n",
    "pixels = first_image.reshape((28, 28))\n",
    "plt.imshow(pixels, cmap='gray')\n",
    "plt.show()\n",
    "\n",
    "print(labelDict[predicted[0]])"
   ]
  },
  {
   "cell_type": "code",
   "execution_count": 140,
   "id": "9317f1b2",
   "metadata": {},
   "outputs": [
    {
     "data": {
      "image/png": "[encoded data removed]",
      "text/plain": [
       "<Figure size 432x288 with 1 Axes>"
      ]
     },
     "metadata": {
      "needs_background": "light"
     },
     "output_type": "display_data"
    },
    {
     "name": "stdout",
     "output_type": "stream",
     "text": [
      "pants\n"
     ]
    }
   ],
   "source": [
    "first_image = X_test[2]\n",
    "pixels = first_image.reshape((28, 28))\n",
    "plt.imshow(pixels, cmap='gray')\n",
    "plt.show()\n",
    "\n",
    "print(labelDict[predicted[2]])"
   ]
  },
  {
   "cell_type": "code",
   "execution_count": 141,
   "id": "8cd80b1d",
   "metadata": {},
   "outputs": [
    {
     "data": {
      "text/plain": [
       "array([[9.36360000e-04, 4.29788538e-04, 4.79430949e-04, ...,\n",
       "        2.91408416e-01, 1.86935989e-02, 4.90960855e-01],\n",
       "       [2.40120008e-02, 1.30735454e-02, 5.00355002e-01, ...,\n",
       "        9.17538623e-03, 3.38859651e-02, 3.87234104e-02],\n",
       "       [7.39919895e-03, 9.33983530e-01, 7.41416781e-04, ...,\n",
       "        4.54516086e-05, 1.96564551e-03, 2.54698643e-04],\n",
       "       ...,\n",
       "       [7.77293023e-02, 6.70039833e-02, 1.21398644e-02, ...,\n",
       "        1.32322282e-02, 3.78232069e-01, 3.62847893e-02],\n",
       "       [1.14772230e-02, 8.08853373e-01, 1.09332267e-03, ...,\n",
       "        4.18245624e-04, 3.87033624e-03, 1.57644358e-03],\n",
       "       [4.94726172e-03, 3.97233350e-04, 2.89455401e-03, ...,\n",
       "        4.64058740e-01, 2.21331074e-01, 6.71101813e-02]])"
      ]
     },
     "execution_count": 141,
     "metadata": {},
     "output_type": "execute_result"
    }
   ],
   "source": [
    "myforest.predict_proba(X_test)"
   ]
  },
  {
   "cell_type": "code",
   "execution_count": 142,
   "id": "ce604a8b",
   "metadata": {},
   "outputs": [
    {
     "data": {
      "text/plain": [
       "<sklearn.metrics._plot.confusion_matrix.ConfusionMatrixDisplay at 0x7fbb9a7539d0>"
      ]
     },
     "execution_count": 142,
     "metadata": {},
     "output_type": "execute_result"
    },
    {
     "data": {
      "image/png": "[encoded data removed]",
      "text/plain": [
       "<Figure size 432x288 with 2 Axes>"
      ]
     },
     "metadata": {
      "needs_background": "light"
     },
     "output_type": "display_data"
    }
   ],
   "source": [
    "#showing confussion matrix\n",
    "cm=confusion_matrix(y_test, predicted)\n",
    "disp=ConfusionMatrixDisplay(confusion_matrix=cm,display_labels=labelDict.values())\n",
    "disp.plot()"
   ]
  },
  {
   "cell_type": "code",
   "execution_count": 129,
   "id": "0c1f94c2",
   "metadata": {},
   "outputs": [
    {
     "name": "stdout",
     "output_type": "stream",
     "text": [
      "              precision    recall  f1-score   support\n",
      "\n",
      "           0       0.76      0.86      0.81      1000\n",
      "           1       0.99      0.97      0.98      1000\n",
      "           2       0.74      0.80      0.77      1000\n",
      "           3       0.90      0.86      0.88      1000\n",
      "           4       0.77      0.77      0.77      1000\n",
      "           5       0.99      0.84      0.91      1000\n",
      "           6       0.65      0.59      0.62      1000\n",
      "           7       0.88      0.95      0.92      1000\n",
      "           8       0.99      0.93      0.96      1000\n",
      "           9       0.90      0.96      0.93      1000\n",
      "\n",
      "    accuracy                           0.85     10000\n",
      "   macro avg       0.86      0.85      0.85     10000\n",
      "weighted avg       0.86      0.85      0.85     10000\n",
      "\n"
     ]
    }
   ],
   "source": [
    "#showing classification report\n",
    "from sklearn.metrics import classification_report\n",
    "print(classification_report(y_test,predicted))"
   ]
  },
  {
   "cell_type": "code",
   "execution_count": 146,
   "id": "bd91b590",
   "metadata": {},
   "outputs": [
    {
     "name": "stdout",
     "output_type": "stream",
     "text": [
      "Accuracy 0.759\n",
      "Recall 0.759\n",
      "Precision 0.759\n",
      "F1 0.7590000000000001\n"
     ]
    }
   ],
   "source": [
    "#printing results of accuracy, recall,precision and F1\n",
    "print(\"Accuracy\", accuracy_score(y_test, predicted))\n",
    "print(\"Recall\", recall_score(y_test, predicted,average=\"micro\"))\n",
    "print(\"Precision\", precision_score(y_test, predicted, average=\"micro\"))\n",
    "print(\"F1\", f1_score(y_test, predicted,average=\"micro\"))"
   ]
  },
  {
   "cell_type": "code",
   "execution_count": 221,
   "id": "34b14c26",
   "metadata": {},
   "outputs": [],
   "source": [
    "#implementing of svm\n",
    "from sklearn.svm import SVC\n",
    "mysvc=SVC(kernel=\"linear\", C=0.1, random_state=0)\n"
   ]
  },
  {
   "cell_type": "code",
   "execution_count": 222,
   "id": "a9b93c42",
   "metadata": {},
   "outputs": [
    {
     "data": {
      "text/plain": [
       "SVC(C=0.1, kernel='linear', random_state=0)"
      ]
     },
     "execution_count": 222,
     "metadata": {},
     "output_type": "execute_result"
    }
   ],
   "source": [
    "mysvc.fit(x_train_std, y_train)"
   ]
  },
  {
   "cell_type": "code",
   "execution_count": 149,
   "id": "a7dc95da",
   "metadata": {},
   "outputs": [
    {
     "data": {
      "text/plain": [
       "array([9, 2, 1, ..., 6, 1, 5], dtype=uint8)"
      ]
     },
     "execution_count": 149,
     "metadata": {},
     "output_type": "execute_result"
    }
   ],
   "source": [
    "mysvc.predict(x_test_std)\n"
   ]
  },
  {
   "cell_type": "code",
   "execution_count": 223,
   "id": "d3c86ae8",
   "metadata": {},
   "outputs": [],
   "source": [
    "predicted = mysvc.predict(x_test_std)\n"
   ]
  },
  {
   "cell_type": "code",
   "execution_count": 226,
   "id": "ab781ac4",
   "metadata": {},
   "outputs": [
    {
     "data": {
      "text/plain": [
       "0.8454"
      ]
     },
     "execution_count": 226,
     "metadata": {},
     "output_type": "execute_result"
    }
   ],
   "source": [
    "mysvc.score(x_test_std,y_test)"
   ]
  },
  {
   "cell_type": "code",
   "execution_count": 227,
   "id": "4261e316",
   "metadata": {},
   "outputs": [
    {
     "data": {
      "text/plain": [
       "<sklearn.metrics._plot.confusion_matrix.ConfusionMatrixDisplay at 0x7fbbadc45f10>"
      ]
     },
     "execution_count": 227,
     "metadata": {},
     "output_type": "execute_result"
    },
    {
     "data": {
      "image/png": "[encoded data removed]",
      "text/plain": [
       "<Figure size 432x288 with 2 Axes>"
      ]
     },
     "metadata": {
      "needs_background": "light"
     },
     "output_type": "display_data"
    }
   ],
   "source": [
    "#showing confussion matrix\n",
    "cm=confusion_matrix(y_test, predicted)\n",
    "disp=ConfusionMatrixDisplay(confusion_matrix=cm,display_labels=labelDict.values())\n",
    "disp.plot()"
   ]
  },
  {
   "cell_type": "code",
   "execution_count": 228,
   "id": "16210097",
   "metadata": {},
   "outputs": [
    {
     "name": "stdout",
     "output_type": "stream",
     "text": [
      "Accuracy 0.8454\n",
      "Recall 0.8454\n",
      "Precision 0.8454\n",
      "F1 0.8454\n"
     ]
    }
   ],
   "source": [
    "#printing results of accuracy, recall,precision and F1\n",
    "print(\"Accuracy\", accuracy_score(y_test, predicted))\n",
    "print(\"Recall\", recall_score(y_test,predicted,average=\"micro\"))\n",
    "print(\"Precision\", precision_score(y_test, predicted, average=\"micro\"))\n",
    "print(\"F1\", f1_score(y_test,predicted,average=\"micro\"))"
   ]
  },
  {
   "cell_type": "code",
   "execution_count": 229,
   "id": "f9fe6295",
   "metadata": {},
   "outputs": [
    {
     "name": "stdout",
     "output_type": "stream",
     "text": [
      "Misclassification 1546\n",
      "(array([  12,   17,   23, ..., 9989, 9991, 9997]),)\n"
     ]
    }
   ],
   "source": [
    "#showing misclassified\n",
    "print(\"Misclassification\", (y_test!= predicted).sum())\n",
    "misclassification = (y_test!=predicted)\n",
    "misLocation = np.where(misclassification==True)\n",
    "print(misLocation)"
   ]
  },
  {
   "cell_type": "code",
   "execution_count": 230,
   "id": "65aba846",
   "metadata": {},
   "outputs": [
    {
     "data": {
      "image/png": "[encoded data removed]",
      "text/plain": [
       "<Figure size 432x288 with 1 Axes>"
      ]
     },
     "metadata": {
      "needs_background": "light"
     },
     "output_type": "display_data"
    },
    {
     "name": "stdout",
     "output_type": "stream",
     "text": [
      "sandals\n"
     ]
    },
    {
     "data": {
      "image/png": "[encoded data removed]",
      "text/plain": [
       "<Figure size 432x288 with 1 Axes>"
      ]
     },
     "metadata": {
      "needs_background": "light"
     },
     "output_type": "display_data"
    },
    {
     "name": "stdout",
     "output_type": "stream",
     "text": [
      "sweater\n"
     ]
    },
    {
     "data": {
      "image/png": "[encoded data removed]",
      "text/plain": [
       "<Figure size 432x288 with 1 Axes>"
      ]
     },
     "metadata": {
      "needs_background": "light"
     },
     "output_type": "display_data"
    },
    {
     "name": "stdout",
     "output_type": "stream",
     "text": [
      "sandals\n"
     ]
    }
   ],
   "source": [
    "#showing misclassified\n",
    "for i in [12,17,23]:    \n",
    "    pixels = X_test[i].reshape((28, 28))\n",
    "    plt.imshow(pixels, cmap='gray')\n",
    "    plt.show()\n",
    "    print(labelDict[predicted[i]])"
   ]
  },
  {
   "cell_type": "code",
   "execution_count": 231,
   "id": "6b7ddacb",
   "metadata": {},
   "outputs": [
    {
     "data": {
      "image/png": "[encoded data removed]",
      "text/plain": [
       "<Figure size 432x288 with 1 Axes>"
      ]
     },
     "metadata": {
      "needs_background": "light"
     },
     "output_type": "display_data"
    },
    {
     "name": "stdout",
     "output_type": "stream",
     "text": [
      "pants\n"
     ]
    },
    {
     "data": {
      "image/png": "[encoded data removed]",
      "text/plain": [
       "<Figure size 432x288 with 1 Axes>"
      ]
     },
     "metadata": {
      "needs_background": "light"
     },
     "output_type": "display_data"
    },
    {
     "name": "stdout",
     "output_type": "stream",
     "text": [
      "sweater\n"
     ]
    },
    {
     "data": {
      "image/png": "[encoded data removed]",
      "text/plain": [
       "<Figure size 432x288 with 1 Axes>"
      ]
     },
     "metadata": {
      "needs_background": "light"
     },
     "output_type": "display_data"
    },
    {
     "name": "stdout",
     "output_type": "stream",
     "text": [
      "sweater\n"
     ]
    }
   ],
   "source": [
    "#showing classified\n",
    "for i in [2,77,25]:    \n",
    "    pixels = X_test[i].reshape((28, 28))\n",
    "    plt.imshow(pixels, cmap='gray')\n",
    "    plt.show()\n",
    "    print(labelDict[predicted[i]])"
   ]
  },
  {
   "cell_type": "code",
   "execution_count": null,
   "id": "412e1a13",
   "metadata": {},
   "outputs": [],
   "source": []
  }
 ],
 "metadata": {
  "kernelspec": {
   "display_name": "Python 3",
   "language": "python",
   "name": "python3"
  },
  "language_info": {
   "codemirror_mode": {
    "name": "ipython",
    "version": 3
   },
   "file_extension": ".py",
   "mimetype": "text/x-python",
   "name": "python",
   "nbconvert_exporter": "python",
   "pygments_lexer": "ipython3",
   "version": "3.8.8"
  }
 },
 "nbformat": 4,
 "nbformat_minor": 5
}
